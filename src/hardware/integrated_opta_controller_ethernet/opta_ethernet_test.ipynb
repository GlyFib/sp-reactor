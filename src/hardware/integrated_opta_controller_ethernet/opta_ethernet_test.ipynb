{
  "cells": [
    {
      "cell_type": "markdown",
      "id": "intro",
      "metadata": {},
      "source": [
        "# Integrated Opta Ethernet Test\n",
        "This notebook tests TCP communication with the Ethernet-based integrated Opta controller.\n",
        "\n",
        "- Default target: 192.168.0.100:502\n",
        "- Commands follow `DEVICE_ID:COMMAND[:PARAM1[:PARAM2]]` (STATUS, REL_01:ON, VICI_01:GOTO:2, MFLEX_01:INIT, ...)"
      ]
    },
    {
      "cell_type": "code",
      "execution_count": null,
      "id": "config",
      "metadata": {},
      "outputs": [],
      "source": [
        "host = \"192.168.0.100\"\n",
        "port = 502\n",
        "print(f\"Target {host}:{port}\")"
      ]
    },
    {
      "cell_type": "code",
      "execution_count": null,
      "id": "connect",
      "metadata": {},
      "outputs": [],
      "source": [
        "import time\n",
        "from opta_adapter_ethernet import OptaEthernetHardwareAdapter, OptaEthernetConfig\n",
        "\n",
        "adapter = OptaEthernetHardwareAdapter(OptaEthernetConfig(host=host, port=port))\n",
        "print(\"Connecting...\")\n",
        "ok = adapter.connect()\n",
        "print(\"Connected:\", ok)\n",
        "print(\"STATUS:\", adapter.get_status())"
      ]
    },
    {
      "cell_type": "code",
      "execution_count": null,
      "id": "relay",
      "metadata": {},
      "outputs": [],
      "source": [
        "# Relay test (Relay 1)\n",
        "print(\"Relay ON:\", adapter._send_command(\"REL_01:ON\"))\n",
        "time.sleep(0.5)\n",
        "print(\"Relay OFF:\", adapter._send_command(\"REL_01:OFF\"))\n",
        "print(\"STATUS:\", adapter.get_status())"
      ]
    },
    {
      "cell_type": "code",
      "execution_count": null,
      "id": "vici",
      "metadata": {},
      "outputs": [],
      "source": [
        "# VICI valve test\n",
        "print(\"Position:\", adapter._send_command(\"VICI_01:POSITION\"))\n",
        "print(\"Goto 2:\", adapter._send_command(\"VICI_01:GOTO:2\"))\n",
        "time.sleep(2)\n",
        "print(\"Position:\", adapter._send_command(\"VICI_01:POSITION\"))"
      ]
    },
    {
      "cell_type": "code",
      "execution_count": null,
      "id": "pump",
      "metadata": {},
      "outputs": [],
      "source": [
        "# Pump test (optional; set RUN_PUMP_TEST=True if safe)\n",
        "RUN_PUMP_TEST = False\n",
        "if RUN_PUMP_TEST:\n",
        "    print(\"INIT:\", adapter.pump_init())\n",
        "    print(\"SPEED:\", adapter.pump_set_speed(50.0, \"+\"))\n",
        "    print(\"REV:\", adapter.pump_set_revolutions(5.0))\n",
        "    print(\"START:\", adapter.pump_start())"
      ]
    },
    {
      "cell_type": "code",
      "execution_count": null,
      "id": "cleanup",
      "metadata": {},
      "outputs": [],
      "source": [
        "adapter.disconnect()\n",
        "print(\"Disconnected\")"
      ]
    }
  ],
  "metadata": {
    "kernelspec": {
      "display_name": "Python 3",
      "language": "python",
      "name": "python3"
    },
    "language_info": {
      "name": "python",
      "version": "3.x"
    }
  },
  "nbformat": 4,
  "nbformat_minor": 5
}

